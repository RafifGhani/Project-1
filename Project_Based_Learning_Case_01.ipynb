{
  "cells": [
    {
      "cell_type": "code",
      "execution_count": null,
      "id": "309dabb9-e570-4d6f-b227-5f2fdd40736b",
      "metadata": {
        "id": "309dabb9-e570-4d6f-b227-5f2fdd40736b"
      },
      "outputs": [],
      "source": [
        "#Import Libraries\n",
        "import pandas as pd\n",
        "import numpy as np\n",
        "import scipy.stats as stats"
      ]
    },
    {
      "cell_type": "code",
      "execution_count": null,
      "id": "56587e98-c378-44b9-93f0-d796b76124ff",
      "metadata": {
        "colab": {
          "base_uri": "https://localhost:8080/",
          "height": 115
        },
        "id": "56587e98-c378-44b9-93f0-d796b76124ff",
        "outputId": "946699d1-3232-458a-b0c3-3022f8244f71"
      },
      "outputs": [
        {
          "output_type": "execute_result",
          "data": {
            "text/plain": [
              "Transaction_Amount    int64\n",
              "dtype: object"
            ],
            "text/html": [
              "<div>\n",
              "<style scoped>\n",
              "    .dataframe tbody tr th:only-of-type {\n",
              "        vertical-align: middle;\n",
              "    }\n",
              "\n",
              "    .dataframe tbody tr th {\n",
              "        vertical-align: top;\n",
              "    }\n",
              "\n",
              "    .dataframe thead th {\n",
              "        text-align: right;\n",
              "    }\n",
              "</style>\n",
              "<table border=\"1\" class=\"dataframe\">\n",
              "  <thead>\n",
              "    <tr style=\"text-align: right;\">\n",
              "      <th></th>\n",
              "      <th>0</th>\n",
              "    </tr>\n",
              "  </thead>\n",
              "  <tbody>\n",
              "    <tr>\n",
              "      <th>Transaction_Amount</th>\n",
              "      <td>int64</td>\n",
              "    </tr>\n",
              "  </tbody>\n",
              "</table>\n",
              "</div><br><label><b>dtype:</b> object</label>"
            ]
          },
          "metadata": {},
          "execution_count": 9
        }
      ],
      "source": [
        "#Create DataFrame\n",
        "df = pd.DataFrame({\n",
        "    \"Transaction_Amount\": [100,150,50,100,130,120,100,85,70,150,150,120,50,100,100,140,90,150,50,90,120,100,110,75,65]\n",
        "})\n",
        "df.dtypes"
      ]
    },
    {
      "cell_type": "code",
      "source": [
        "len(df)"
      ],
      "metadata": {
        "colab": {
          "base_uri": "https://localhost:8080/"
        },
        "id": "AtwgZXvIFmZg",
        "outputId": "9d1bf52f-4840-4521-a84c-38d0061eb776"
      },
      "id": "AtwgZXvIFmZg",
      "execution_count": null,
      "outputs": [
        {
          "output_type": "execute_result",
          "data": {
            "text/plain": [
              "25"
            ]
          },
          "metadata": {},
          "execution_count": 24
        }
      ]
    },
    {
      "cell_type": "code",
      "execution_count": null,
      "id": "KOFYWfvUtfMx",
      "metadata": {
        "colab": {
          "base_uri": "https://localhost:8080/"
        },
        "id": "KOFYWfvUtfMx",
        "outputId": "ee165518-d08b-494f-f96f-4879f580e41a"
      },
      "outputs": [
        {
          "output_type": "stream",
          "name": "stdout",
          "text": [
            "Transaction_Amount    102.6\n",
            "dtype: float64\n",
            "Transaction_Amount    100.0\n",
            "dtype: float64\n"
          ]
        }
      ],
      "source": [
        "#Central Tendency\n",
        "import statistics\n",
        "print(df.mean())\n",
        "print(df.median())"
      ]
    },
    {
      "cell_type": "code",
      "execution_count": null,
      "id": "ceRxEGdTt966",
      "metadata": {
        "id": "ceRxEGdTt966"
      },
      "outputs": [],
      "source": [
        "#Tulis analisismu dari Central Tendency di sini\n",
        "#Berdasarkan hasil dari Analisis Central Tendency, dari 25 hasil penjualan didapatkan Mean 102.6 dan Median 100. Ini menunjukkan training yang dilakukan kepada pekerja menghasilkan peningkatan penjualan"
      ]
    },
    {
      "cell_type": "code",
      "execution_count": null,
      "id": "UcbHy344uQ-G",
      "metadata": {
        "colab": {
          "base_uri": "https://localhost:8080/"
        },
        "id": "UcbHy344uQ-G",
        "outputId": "0446cafd-73b6-44fe-af07-2f398b3521ab"
      },
      "outputs": [
        {
          "output_type": "stream",
          "name": "stdout",
          "text": [
            "Transaction_Amount    972.24\n",
            "dtype: float64\n",
            "Transaction_Amount    31.180763\n",
            "dtype: float64\n",
            "150\n",
            "50\n",
            "100\n",
            "85.0\n",
            "100.0\n",
            "120.0\n"
          ]
        },
        {
          "output_type": "stream",
          "name": "stderr",
          "text": [
            "/usr/local/lib/python3.10/dist-packages/numpy/core/fromnumeric.py:3785: FutureWarning: The behavior of DataFrame.var with axis=None is deprecated, in a future version this will reduce over both axes and return a scalar. To retain the old behavior, pass axis=0 (or do not pass axis)\n",
            "  return var(axis=axis, dtype=dtype, out=out, ddof=ddof, **kwargs)\n",
            "/usr/local/lib/python3.10/dist-packages/numpy/core/fromnumeric.py:3643: FutureWarning: The behavior of DataFrame.std with axis=None is deprecated, in a future version this will reduce over both axes and return a scalar. To retain the old behavior, pass axis=0 (or do not pass axis)\n",
            "  return std(axis=axis, dtype=dtype, out=out, ddof=ddof, **kwargs)\n"
          ]
        }
      ],
      "source": [
        "#Variability\n",
        "print(np.var(df))\n",
        "print(np.std(df))\n",
        "print(np.max(df))\n",
        "print(np.min(df))\n",
        "print(np.max(df) - np.min(df))\n",
        "print(np.quantile(df, 0.25))\n",
        "print(np.quantile(df, 0.5))\n",
        "print(np.quantile(df, 0.75))"
      ]
    },
    {
      "cell_type": "code",
      "execution_count": null,
      "id": "v_dl9Fneuabm",
      "metadata": {
        "id": "v_dl9Fneuabm"
      },
      "outputs": [],
      "source": [
        "#Tulis analisismu dari Variability di sini\n",
        "#Berdasarkan hasil dari Analisis Variability, dari 25 hasil penjualan didapatkan Variance 972.24, Standard Deviasi 31.180, Max 150, Min 50, Range 100, Q1 85, Q2 100, dan Q2 120"
      ]
    },
    {
      "cell_type": "code",
      "execution_count": null,
      "id": "3786f132-4bd1-4c72-a5d9-1044aa088818",
      "metadata": {
        "id": "3786f132-4bd1-4c72-a5d9-1044aa088818"
      },
      "outputs": [],
      "source": [
        "#Define H0 and H1\n",
        "import scipy.stats as stats\n",
        "#H0: Rata-rata hasil penjualan = 100\n",
        "#H1: Rata-rata hasil penjualan > 100"
      ]
    },
    {
      "cell_type": "code",
      "execution_count": null,
      "id": "b8103158-ecda-478d-9926-7ec0dcfc5c12",
      "metadata": {
        "id": "b8103158-ecda-478d-9926-7ec0dcfc5c12"
      },
      "outputs": [],
      "source": [
        "#Define alpha = 0.05"
      ]
    },
    {
      "cell_type": "code",
      "execution_count": null,
      "id": "686e0fc4-84d5-4712-ae90-b47eb3ea44ac",
      "metadata": {
        "colab": {
          "base_uri": "https://localhost:8080/"
        },
        "id": "686e0fc4-84d5-4712-ae90-b47eb3ea44ac",
        "outputId": "1da0f754-8390-49e1-bb54-bec0f941c114"
      },
      "outputs": [
        {
          "output_type": "execute_result",
          "data": {
            "text/plain": [
              "TtestResult(statistic=array([0.40850016]), pvalue=array([0.68652848]), df=array([24]))"
            ]
          },
          "metadata": {},
          "execution_count": 20
        }
      ],
      "source": [
        "#Calculate t statistics and P-value\n",
        "#Perform one sample t-test\n",
        "\n",
        "stats.ttest_1samp(a=df, popmean=100)"
      ]
    },
    {
      "cell_type": "code",
      "execution_count": null,
      "id": "592f6cf7",
      "metadata": {
        "id": "592f6cf7"
      },
      "outputs": [],
      "source": [
        "#statistic= 0.40850016, pvalue= 0.68652848"
      ]
    },
    {
      "cell_type": "code",
      "execution_count": null,
      "id": "35c7de5f-3992-4872-98ea-9e9269b1557b",
      "metadata": {
        "id": "35c7de5f-3992-4872-98ea-9e9269b1557b"
      },
      "outputs": [],
      "source": [
        "#Conclude with alpha and p-value\n",
        "#Dikarenakan nilai p-value lebih besar dari alpha, maka hasil test H0 gagal\n",
        "#Conclusion: Rata-rata hasil penjualan tetap 100"
      ]
    },
    {
      "cell_type": "code",
      "execution_count": null,
      "id": "9580db55-a594-4c1b-a5e6-3787906505c2",
      "metadata": {
        "id": "9580db55-a594-4c1b-a5e6-3787906505c2"
      },
      "outputs": [],
      "source": [
        "#Conclude with t statistics and critical region\n",
        "#Find the critical region"
      ]
    },
    {
      "cell_type": "code",
      "execution_count": null,
      "id": "1429f038",
      "metadata": {
        "colab": {
          "base_uri": "https://localhost:8080/"
        },
        "id": "1429f038",
        "outputId": "aa409722-5205-44b3-b8c3-7ad0e9134e62"
      },
      "outputs": [
        {
          "output_type": "execute_result",
          "data": {
            "text/plain": [
              "1.7108820799094275"
            ]
          },
          "metadata": {},
          "execution_count": 25
        }
      ],
      "source": [
        "#H1: Lager (Right Side)\n",
        "stats.t.ppf(1-0.05, 24)"
      ]
    },
    {
      "cell_type": "code",
      "execution_count": null,
      "id": "d6595428-5211-4cf7-bb61-ca8e201e6ef6",
      "metadata": {
        "id": "d6595428-5211-4cf7-bb61-ca8e201e6ef6"
      },
      "outputs": [],
      "source": [
        "#Critical region result : t > 1.71\n",
        "#Dikarenakan nilai p-value lebih besar dari alpha, maka hasil test H0 gagal\n",
        "#Conclusion: Rata-rata hasil penjualan tetap 100"
      ]
    }
  ],
  "metadata": {
    "colab": {
      "provenance": []
    },
    "kernelspec": {
      "display_name": "Python 3",
      "language": "python",
      "name": "python3"
    },
    "language_info": {
      "codemirror_mode": {
        "name": "ipython",
        "version": 3
      },
      "file_extension": ".py",
      "mimetype": "text/x-python",
      "name": "python",
      "nbconvert_exporter": "python",
      "pygments_lexer": "ipython3",
      "version": "3.11.1 (tags/v3.11.1:a7a450f, Dec  6 2022, 19:58:39) [MSC v.1934 64 bit (AMD64)]"
    },
    "vscode": {
      "interpreter": {
        "hash": "5e70fd34aa919644e731ce0c71c5ec6c66d3b48eb7909f9a04da7ee7076ef028"
      }
    }
  },
  "nbformat": 4,
  "nbformat_minor": 5
}